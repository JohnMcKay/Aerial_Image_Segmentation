{
  "nbformat": 4,
  "nbformat_minor": 0,
  "metadata": {
    "colab": {
      "name": "Semantic_Segmentation.ipynb",
      "provenance": [],
      "collapsed_sections": [],
      "include_colab_link": true
    },
    "kernelspec": {
      "name": "python3",
      "display_name": "Python 3"
    }
  },
  "cells": [
    {
      "cell_type": "markdown",
      "metadata": {
        "id": "view-in-github",
        "colab_type": "text"
      },
      "source": [
        "<a href=\"https://colab.research.google.com/github/JohnMcKay/Aerial_Image_Segmentation/blob/master/Semantic_Segmentation.ipynb\" target=\"_parent\"><img src=\"https://colab.research.google.com/assets/colab-badge.svg\" alt=\"Open In Colab\"/></a>"
      ]
    },
    {
      "cell_type": "markdown",
      "metadata": {
        "id": "8RRXdYQ3glQv",
        "colab_type": "text"
      },
      "source": [
        "**Semantic Segmentation of Aerial Imagery, Authored By John McKay (jmckaypitt@gmail.com)**"
      ]
    },
    {
      "cell_type": "code",
      "metadata": {
        "id": "dgCKpjw1gjhr",
        "colab_type": "code",
        "colab": {}
      },
      "source": [
        "# System Imports\n",
        "import os\n",
        "import sys\n",
        "from google.colab import drive  # to mount directory with .shp data\n",
        "\n",
        "# 3rd Party Imports\n",
        "import numpy as np\n",
        "import tensorflow as tf\n",
        "from tensorflow.keras import backend as K\n",
        "import scipy as sp\n",
        "import cv2\n",
        "import matplotlib.pyplot as plt\n",
        "import tqdm as tqdm\n",
        "from glob import glob"
      ],
      "execution_count": 0,
      "outputs": []
    },
    {
      "cell_type": "code",
      "metadata": {
        "id": "54yTF0r9rM6f",
        "colab_type": "code",
        "outputId": "d5048929-59f7-4250-e8e2-e567d75d4435",
        "colab": {
          "base_uri": "https://localhost:8080/",
          "height": 33
        }
      },
      "source": [
        "drive.mount('/content/drive/')  # saved data location\n",
        "DATA_PATH = '/content/drive/My Drive/sem_seg/short_sample/'"
      ],
      "execution_count": 0,
      "outputs": [
        {
          "output_type": "stream",
          "text": [
            "Drive already mounted at /content/drive/; to attempt to forcibly remount, call drive.mount(\"/content/drive/\", force_remount=True).\n"
          ],
          "name": "stdout"
        }
      ]
    },
    {
      "cell_type": "code",
      "metadata": {
        "id": "xb9mIQHTr3bl",
        "colab_type": "code",
        "colab": {}
      },
      "source": [
        "def IOU(y_true, y_pred, smooth=100):\n",
        "    # https://github.com/keras-team/keras-contrib/blob/master/keras_contrib/losses/jaccard.py\n",
        "    intersection = K.sum(K.abs(y_true * y_pred), axis=-1)\n",
        "    sum_ = K.sum(K.abs(y_true) + K.abs(y_pred), axis=-1)\n",
        "    jac = (intersection + smooth) / (sum_ - intersection + smooth)\n",
        "    return (1 - jac) * smooth"
      ],
      "execution_count": 0,
      "outputs": []
    },
    {
      "cell_type": "code",
      "metadata": {
        "id": "ggVTSv30rO39",
        "colab_type": "code",
        "colab": {}
      },
      "source": [
        "# ++++++++++++++++++++++++++++++++++++++++++++++++++++++++++++++++++++++++++++++++++++++++++++++++++\n",
        "# Keras Generator\n",
        "# ++++++++++++++++++++++++++++++++++++++++++++++++++++++++++++++++++++++++++++++++++++++++++++++++++\n",
        "\n",
        "# Keras Generators for Imagery\n",
        "class Generator(tf.keras.utils.Sequence):\n",
        "  def __init__(self, imNames, batch_size, path_to_images):\n",
        "    self.imNames = imNames\n",
        "    self.path = path_to_images\n",
        "    self.batchSize = batch_size\n",
        "    self.numIms = len(self.imNames)\n",
        "    self.numSteps = self.numIms // batch_size\n",
        "    if self.numIms % batch_size == 0:\n",
        "        self.numSteps -= 1\n",
        "    #\n",
        "    self.n = 0\n",
        "    #\n",
        "  def __len__(self):\n",
        "    return self.numSteps\n",
        "  #\n",
        "  def __getitem__(self, index):\n",
        "    if index != self.numSteps:\n",
        "      imNms = self.imNames[self.batchSize * index:self.batchSize * (index + 1)]\n",
        "      # lbNms = self.lbNames[self.batchSize * index:self.batchSize * (index + 1)]\n",
        "    else:\n",
        "      imNms = self.imNames[self.batchSize * index:]\n",
        "      # lbNms = self.lbNames[self.batchSize * index:]\n",
        "    ims = []\n",
        "    lbs = []\n",
        "    for i, n in enumerate(imNms):\n",
        "      temp = cv2.imread(os.path.join(self.path, n))\n",
        "      temp = cv2.cvtColor(temp, cv2.COLOR_BGR2GRAY) * 1.0  # grayscale \n",
        "      temp -= temp.min()\n",
        "      temp /= temp.max()\n",
        "      ims.append(temp)\n",
        "      tem2 = cv2.imread(os.path.join(self.path, n.replace('_Image', '_Label')))\n",
        "      tem2 = cv2.cvtColor(tem2, cv2.COLOR_BGR2GRAY)  # grayscale to collapse labels\n",
        "      lbs.append(handleLabels(tem2))\n",
        "    #\n",
        "    ims = np.array(ims)\n",
        "    return np.expand_dims(ims, -1), np.array(lbs)\n",
        "    #\n",
        "#\n",
        "\n",
        "# Handle Labels to get into one-hot tensors\n",
        "def handleLabels(gray_image, label_indicators=[29, 76, 150, 179, 226, 255]):\n",
        "  labels = np.zeros((gray_image.shape[0], gray_image.shape[1], len(label_indicators)))\n",
        "  for n, x in enumerate(label_indicators):\n",
        "    if sum(gray_image.flatten()==x):\n",
        "      labels[:, :, n] = (gray_image==x).astype(int)\n",
        "  #\n",
        "  return labels\n",
        "#\n"
      ],
      "execution_count": 0,
      "outputs": []
    },
    {
      "cell_type": "code",
      "metadata": {
        "id": "xo0hhA6prTcg",
        "colab_type": "code",
        "colab": {}
      },
      "source": [
        "# ++++++++++++++++++++++++++++++++++++++++++++++++++++++++++++++++++++++++++++++++++++++++++++++++++\n",
        "# Model Architecture\n",
        "# ++++++++++++++++++++++++++++++++++++++++++++++++++++++++++++++++++++++++++++++++++++++++++++++++++\n",
        "\n",
        "def mini_unet(num_classes, input_size=(224, 224, 1), N=1):\n",
        "  ins = tf.keras.layers.Input(input_size)\n",
        "  ly1 = tf.keras.layers.Conv2D(32 // N, (3, 3), activation = 'relu', padding = 'same', kernel_initializer = 'he_normal')(ins)\n",
        "  pl1 = tf.keras.layers.MaxPooling2D()(ly1)\n",
        "  ly2 = tf.keras.layers.Conv2D(64 // N, (3, 3), activation = 'relu', padding = 'same', kernel_initializer = 'he_normal')(pl1)\n",
        "  pl2 = tf.keras.layers.MaxPooling2D()(ly2)\n",
        "  ly3 = tf.keras.layers.Conv2D(128 // N, (3, 3), activation = 'relu', padding = 'same', kernel_initializer = 'he_normal')(pl2)\n",
        "  dr3 = tf.keras.layers.Dropout(0.5)(ly3)\n",
        "  pl3 = tf.keras.layers.MaxPooling2D()(ly3)\n",
        "  # ...\n",
        "  ly5 = tf.keras.layers.Conv2D(256 // N, (3, 3), activation = 'relu', padding = 'same', kernel_initializer = 'he_normal')(pl3)\n",
        "  dr5 = tf.keras.layers.Dropout(0.5)(ly5)\n",
        "  #\n",
        "  up6 = tf.keras.layers.UpSampling2D((2, 2))(dr5)\n",
        "  up6 = tf.keras.layers.Conv2D(128 // N, (3, 3), activation = 'relu', padding = 'same', kernel_initializer = 'he_normal')(up6)\n",
        "  mr6 = tf.keras.layers.concatenate([dr3, up6], axis=3)\n",
        "  ly6 = tf.keras.layers.Conv2D(128 // N, (3, 3), activation = 'relu', padding = 'same', kernel_initializer = 'he_normal')(mr6)\n",
        "  #\n",
        "  up7 = tf.keras.layers.UpSampling2D((2, 2))(ly6)\n",
        "  up7 = tf.keras.layers.Conv2D(64 // N, (3, 3), activation = 'relu', padding = 'same', kernel_initializer = 'he_normal')(up7)\n",
        "  mr7 = tf.keras.layers.concatenate([ly2, up7], axis=3)\n",
        "  ly7 = tf.keras.layers.Conv2D(64 // N, (3, 3), activation = 'relu', padding = 'same', kernel_initializer = 'he_normal')(mr7)\n",
        "  #\n",
        "  up8 = tf.keras.layers.UpSampling2D((2, 2))(ly7)\n",
        "  up8 = tf.keras.layers.Conv2D(32 // N, (3, 3), activation = 'relu', padding = 'same', kernel_initializer = 'he_normal')(up8)\n",
        "  mr8 = tf.keras.layers.concatenate([ly1, up8], axis=3)\n",
        "  ly8 = tf.keras.layers.Conv2D(32 // N, (3, 3), activation = 'relu', padding = 'same', kernel_initializer = 'he_normal')(mr8)\n",
        "  #\n",
        "  ly9 = tf.keras.layers.Conv2D(num_classes, (3, 3), activation = 'sigmoid', padding = 'same', kernel_initializer = 'he_normal')(mr8)\n",
        "  #\n",
        "  net = tf.keras.Model(ins, ly9)\n",
        "  #net.compile(optimizer=tf.keras.optimizers.Adam(lr=1e-4), loss='categorical_crossentropy', metrics=['accuracy', 'mse'])\n",
        "  net.compile(optimizer=tf.keras.optimizers.Adam(lr=1e-4), loss=IOU, metrics=['accuracy', 'mse'])\n",
        "  return net\n",
        "#"
      ],
      "execution_count": 0,
      "outputs": []
    },
    {
      "cell_type": "code",
      "metadata": {
        "id": "5nZICM_T86CL",
        "colab_type": "code",
        "colab": {}
      },
      "source": [
        "# ++++++++++++++++++++++++++++++++++++++++++++++++++++++++++++++++++++++++++++++++++++++++++++++++++\n",
        "# Prepare Data\n",
        "# ++++++++++++++++++++++++++++++++++++++++++++++++++++++++++++++++++++++++++++++++++++++++++++++++++\n",
        "\n",
        "BATCH_SIZE = 64\n",
        "EPOCHS = 4\n",
        "SPLIT = 0.75\n",
        "\n",
        "imageNames = glob(os.path.join(DATA_PATH, '*_Image.png'))  # paths to images (labels via Generator)\n",
        "numClasses = 6  # from inspection\n",
        "# Shuffle images for training and testing\n",
        "N = 15000  # len(imageNames)\n",
        "mixUp = np.random.permutation(N)[:8000]\n",
        "imageNames = np.array([imageNames[n] for n in mixUp])\n",
        "trainN = int(len(imageNames) * SPLIT)\n",
        "testN = len(imageNames) - trainN\n",
        "# Define generators\n",
        "trainGenerator = Generator(imageNames[:trainN], BATCH_SIZE, DATA_PATH)\n",
        "testGenerator = Generator(imageNames[trainN:trainN + testN], BATCH_SIZE, DATA_PATH)\n",
        "np.save(os.path.join(DATA_PATH, 'trainNames'), imageNames[:trainN])\n",
        "np.save(os.path.join(DATA_PATH, 'testNames'), imageNames[trainN:trainN + testN])"
      ],
      "execution_count": 0,
      "outputs": []
    },
    {
      "cell_type": "code",
      "metadata": {
        "id": "IJK5tWCEx258",
        "colab_type": "code",
        "colab": {}
      },
      "source": [
        "# ++++++++++++++++++++++++++++++++++++++++++++++++++++++++++++++++++++++++++++++++++++++++++++++++++\n",
        "# Define Networks\n",
        "# ++++++++++++++++++++++++++++++++++++++++++++++++++++++++++++++++++++++++++++++++++++++++++++++++++\n",
        "\n",
        "net1 = mini_unet(numClasses, N = 1)\n",
        "net2 = mini_unet(numClasses, N = 1)\n",
        "net3 = mini_unet(numClasses, N = 2)\n",
        "net4 = mini_unet(numClasses, N = 4)"
      ],
      "execution_count": 0,
      "outputs": []
    },
    {
      "cell_type": "code",
      "metadata": {
        "id": "w_d5hZ-ux9fb",
        "colab_type": "code",
        "outputId": "55153a00-4ce9-4498-9dc6-fcce661e5c56",
        "colab": {
          "base_uri": "https://localhost:8080/",
          "height": 164
        }
      },
      "source": [
        "# ++++++++++++++++++++++++++++++++++++++++++++++++++++++++++++++++++++++++++++++++++++++++++++++++++\n",
        "# Train Models\n",
        "# ++++++++++++++++++++++++++++++++++++++++++++++++++++++++++++++++++++++++++++++++++++++++++++++++++\n",
        "\n",
        "net1.fit_generator(generator=trainGenerator, use_multiprocessing=True, workers=8, epochs=EPOCHS)"
      ],
      "execution_count": 0,
      "outputs": [
        {
          "output_type": "stream",
          "text": [
            "Epoch 1/4\n",
            "93/93 [==============================] - 4457s 48s/step - loss: 1.5094 - acc: 0.2925 - mean_squared_error: 0.2531\n",
            "Epoch 2/4\n",
            "93/93 [==============================] - 4414s 47s/step - loss: 1.3801 - acc: 0.3679 - mean_squared_error: 0.2196\n",
            "Epoch 3/4\n",
            "93/93 [==============================] - 4421s 48s/step - loss: 1.3150 - acc: 0.4050 - mean_squared_error: 0.2199\n",
            "Epoch 4/4\n",
            "93/93 [==============================] - 4406s 47s/step - loss: 1.2768 - acc: 0.4229 - mean_squared_error: 0.1979\n"
          ],
          "name": "stdout"
        },
        {
          "output_type": "execute_result",
          "data": {
            "text/plain": [
              "<tensorflow.python.keras.callbacks.History at 0x7fc758443dd8>"
            ]
          },
          "metadata": {
            "tags": []
          },
          "execution_count": 17
        }
      ]
    },
    {
      "cell_type": "code",
      "metadata": {
        "id": "HXdVOTN6vF6n",
        "colab_type": "code",
        "colab": {}
      },
      "source": [
        "NET_JSON = os.path.join(DATA_PATH, 'net1_architecture.json')\n",
        "model_json = net1.to_json()\n",
        "with open(NET_JSON, \"w\") as json_file:\n",
        "    json_file.write(model_json)\n",
        "#\n",
        "NET_WEIGHTS = os.path.join(DATA_PATH, 'net1_weights.h5')\n",
        "net1.save_weights(NET_WEIGHTS)"
      ],
      "execution_count": 0,
      "outputs": []
    },
    {
      "cell_type": "code",
      "metadata": {
        "id": "J5BbevbpvKnO",
        "colab_type": "code",
        "outputId": "fa8d5397-c713-4aec-ac3e-6d82cab48b34",
        "colab": {
          "base_uri": "https://localhost:8080/",
          "height": 294
        }
      },
      "source": [
        "net2.fit_generator(generator=trainGenerator, use_multiprocessing=True, workers=6, epochs=EPOCHS)"
      ],
      "execution_count": 0,
      "outputs": [
        {
          "output_type": "stream",
          "text": [
            "Epoch 1/4\n",
            "Epoch 1/4\n",
            "93/93 [==============================] - 4845s 52s/step - loss: 1.5140 - acc: 0.2914 - mean_squared_error: 0.1573\n",
            "93/93 [==============================] - 4845s 52s/step - loss: 1.5140 - acc: 0.2914 - mean_squared_error: 0.1573\n",
            "Epoch 2/4\n",
            "Epoch 2/4\n",
            "93/93 [==============================] - 4192s 45s/step - loss: 1.3682 - acc: 0.3788 - mean_squared_error: 0.1593\n",
            "93/93 [==============================] - 4192s 45s/step - loss: 1.3682 - acc: 0.3788 - mean_squared_error: 0.1593\n",
            "Epoch 3/4\n",
            "Epoch 3/4\n",
            "93/93 [==============================] - 4387s 47s/step - loss: 1.2972 - acc: 0.4139 - mean_squared_error: 0.1656\n",
            "93/93 [==============================] - 4387s 47s/step - loss: 1.2972 - acc: 0.4139 - mean_squared_error: 0.1656\n",
            "Epoch 4/4\n",
            "Epoch 4/4\n",
            "93/93 [==============================] - 4412s 47s/step - loss: 1.2458 - acc: 0.4344 - mean_squared_error: 0.1631\n",
            "93/93 [==============================] - 4412s 47s/step - loss: 1.2458 - acc: 0.4344 - mean_squared_error: 0.1631\n"
          ],
          "name": "stdout"
        },
        {
          "output_type": "execute_result",
          "data": {
            "text/plain": [
              "<tensorflow.python.keras.callbacks.History at 0x7fc740437860>"
            ]
          },
          "metadata": {
            "tags": []
          },
          "execution_count": 19
        },
        {
          "output_type": "execute_result",
          "data": {
            "text/plain": [
              "<tensorflow.python.keras.callbacks.History at 0x7fc740437860>"
            ]
          },
          "metadata": {
            "tags": []
          },
          "execution_count": 19
        }
      ]
    },
    {
      "cell_type": "code",
      "metadata": {
        "id": "Mgwm_DHSkFZa",
        "colab_type": "code",
        "colab": {}
      },
      "source": [
        "NET_JSON = os.path.join(DATA_PATH, 'net2_architecture.json')\n",
        "model_json = net2.to_json()\n",
        "with open(NET_JSON, \"w\") as json_file:\n",
        "    json_file.write(model_json)\n",
        "#\n",
        "NET_WEIGHTS = os.path.join(DATA_PATH, 'net2_weights.h5')\n",
        "net2.save_weights(NET_WEIGHTS)"
      ],
      "execution_count": 0,
      "outputs": []
    },
    {
      "cell_type": "code",
      "metadata": {
        "id": "1NIJUoyIkF6H",
        "colab_type": "code",
        "outputId": "e4f2c61a-cf54-4dbf-aa1a-0bf07686d016",
        "colab": {
          "base_uri": "https://localhost:8080/",
          "height": 343
        }
      },
      "source": [
        "net3.fit_generator(generator=trainGenerator, use_multiprocessing=True, workers=6, epochs=EPOCHS)"
      ],
      "execution_count": 0,
      "outputs": [
        {
          "output_type": "stream",
          "text": [
            "Epoch 1/4\n",
            "WARNING:tensorflow:From /usr/local/lib/python3.6/dist-packages/tensorflow_core/python/ops/math_grad.py:1424: where (from tensorflow.python.ops.array_ops) is deprecated and will be removed in a future version.\n",
            "Instructions for updating:\n",
            "Use tf.where in 2.0, which has the same broadcast rule as np.where\n",
            "93/93 [==============================] - 4362s 47s/step - loss: 1.5448 - acc: 0.3043 - mean_squared_error: 0.3308\n",
            "Epoch 2/4\n",
            "93/93 [==============================] - 4328s 47s/step - loss: 1.3840 - acc: 0.3440 - mean_squared_error: 0.2701\n",
            "Epoch 3/4\n",
            "93/93 [==============================] - 4293s 46s/step - loss: 1.3132 - acc: 0.3874 - mean_squared_error: 0.2272\n",
            "Epoch 4/4\n",
            "93/93 [==============================] - 4170s 45s/step - loss: 1.2850 - acc: 0.4006 - mean_squared_error: 0.2066\n",
            "Epoch 1/4\n",
            "93/93 [==============================] - 4653s 50s/step - loss: 1.6149 - acc: 0.3077 - mean_squared_error: 0.3010\n",
            "Epoch 2/4\n",
            "93/93 [==============================] - 3981s 43s/step - loss: 1.5188 - acc: 0.3083 - mean_squared_error: 0.2816\n",
            "Epoch 3/4\n",
            "93/93 [==============================] - 4018s 43s/step - loss: 1.4260 - acc: 0.3181 - mean_squared_error: 0.2533\n",
            "Epoch 4/4\n",
            "93/93 [==============================] - 4011s 43s/step - loss: 1.3873 - acc: 0.3423 - mean_squared_error: 0.2387\n"
          ],
          "name": "stdout"
        },
        {
          "output_type": "execute_result",
          "data": {
            "text/plain": [
              "<tensorflow.python.keras.callbacks.History at 0x7f8280078e80>"
            ]
          },
          "metadata": {
            "tags": []
          },
          "execution_count": 10
        }
      ]
    },
    {
      "cell_type": "code",
      "metadata": {
        "id": "yWOe6c6Hxa0z",
        "colab_type": "code",
        "outputId": "9d2bcc3f-bdc0-41fc-a497-5902fc84aead",
        "colab": {
          "base_uri": "https://localhost:8080/",
          "height": 164
        }
      },
      "source": [
        "net4.fit_generator(generator=trainGenerator, use_multiprocessing=True, workers=6, epochs=EPOCHS)"
      ],
      "execution_count": 0,
      "outputs": [
        {
          "output_type": "stream",
          "text": [
            "Epoch 1/4\n",
            "93/93 [==============================] - 4326s 47s/step - loss: 1.9384 - acc: 0.2240 - mean_squared_error: 0.2006\n",
            "Epoch 2/4\n",
            "93/93 [==============================] - 4216s 45s/step - loss: 0.9622 - acc: 0.2583 - mean_squared_error: 0.1603\n",
            "Epoch 3/4\n",
            "93/93 [==============================] - 4205s 45s/step - loss: 0.9540 - acc: 0.3189 - mean_squared_error: 0.1602\n",
            "Epoch 4/4\n",
            "93/93 [==============================] - 4283s 46s/step - loss: 0.9527 - acc: 0.3178 - mean_squared_error: 0.1603\n"
          ],
          "name": "stdout"
        },
        {
          "output_type": "execute_result",
          "data": {
            "text/plain": [
              "<tensorflow.python.keras.callbacks.History at 0x7fb105dcd9e8>"
            ]
          },
          "metadata": {
            "tags": []
          },
          "execution_count": 28
        }
      ]
    },
    {
      "cell_type": "code",
      "metadata": {
        "id": "4seGzuJikGIR",
        "colab_type": "code",
        "colab": {}
      },
      "source": [
        "NET_JSON = os.path.join(DATA_PATH, 'net3_architecture.json')\n",
        "model_json = net3.to_json()\n",
        "with open(NET_JSON, \"w\") as json_file:\n",
        "    json_file.write(model_json)\n",
        "#\n",
        "NET_WEIGHTS = os.path.join(DATA_PATH, 'net3_weights.h5')\n",
        "net3.save_weights(NET_WEIGHTS)\n"
      ],
      "execution_count": 0,
      "outputs": []
    },
    {
      "cell_type": "code",
      "metadata": {
        "id": "fcZ4NnU_iNKf",
        "colab_type": "code",
        "colab": {}
      },
      "source": [
        "NET_JSON = os.path.join(DATA_PATH, 'net4_architecture.json')\n",
        "model_json = net4.to_json()\n",
        "with open(NET_JSON, \"w\") as json_file:\n",
        "    json_file.write(model_json)\n",
        "#\n",
        "NET_WEIGHTS = os.path.join(DATA_PATH, 'net4_weights.h5')\n",
        "net4.save_weights(NET_WEIGHTS)"
      ],
      "execution_count": 0,
      "outputs": []
    },
    {
      "cell_type": "code",
      "metadata": {
        "id": "yJL8hGfZ2ur5",
        "colab_type": "code",
        "colab": {}
      },
      "source": [
        "tem2 = cv2.imread(os.path.join(DATA_PATH, imageNames[0].replace('_Image', '_Label')))\n",
        "tem2 = cv2.cvtColor(tem2, cv2.COLOR_BGR2GRAY)  # grayscale to collapse labels"
      ],
      "execution_count": 0,
      "outputs": []
    },
    {
      "cell_type": "code",
      "metadata": {
        "id": "ZC_H8caCbqCE",
        "colab_type": "code",
        "outputId": "bcf3a035-03e9-4b0a-dff9-0322b0a96b63",
        "colab": {
          "base_uri": "https://localhost:8080/",
          "height": 33
        }
      },
      "source": [
        "imageNames = glob(os.path.join(DATA_PATH, '*_Image.png'))  # paths to images (labels via Generator)\n",
        "\n",
        "len(imageNames)"
      ],
      "execution_count": 0,
      "outputs": [
        {
          "output_type": "execute_result",
          "data": {
            "text/plain": [
              "18029"
            ]
          },
          "metadata": {
            "tags": []
          },
          "execution_count": 8
        }
      ]
    },
    {
      "cell_type": "code",
      "metadata": {
        "id": "8soAl_J04WHU",
        "colab_type": "code",
        "outputId": "fc3124fc-572b-44f3-e7ca-6a2cee10ed7a",
        "colab": {
          "base_uri": "https://localhost:8080/",
          "height": 164
        }
      },
      "source": [
        "# ++++++++++++++++++++++++++++++++++++++++++++++++++++++++++++++++++++++++++++++++++++++++++++++++++\n",
        "# Load Models\n",
        "# ++++++++++++++++++++++++++++++++++++++++++++++++++++++++++++++++++++++++++++++++++++++++++++++++++\n",
        "\n",
        "# UNet 1\n",
        "openJson = open(os.path.join(DATA_PATH, 'net1_architecture.json'), 'r')\n",
        "unet1_raw = openJson.read()\n",
        "openJson.close()\n",
        "unet1 = tf.keras.models.model_from_json(unet1_raw)\n",
        "unet1.load_weights(os.path.join(DATA_PATH, 'net1_weights.h5'))\n",
        "# UNet 2\n",
        "openJson = open(os.path.join(DATA_PATH, 'net2_architecture.json'), 'r')\n",
        "unet2_raw = openJson.read()\n",
        "openJson.close()\n",
        "unet2 = tf.keras.models.model_from_json(unet2_raw)\n",
        "unet2.load_weights(os.path.join(DATA_PATH, 'net2_weights.h5'))\n",
        "# UNet 3\n",
        "openJson = open(os.path.join(DATA_PATH, 'net3_architecture.json'), 'r')\n",
        "unet3_raw = openJson.read()\n",
        "openJson.close()\n",
        "unet3 = tf.keras.models.model_from_json(unet3_raw)\n",
        "unet3.load_weights(os.path.join(DATA_PATH, 'net3_weights.h5'))\n",
        "# UNet 4\n",
        "openJson = open(os.path.join(DATA_PATH, 'net4_architecture.json'), 'r')\n",
        "unet4_raw = openJson.read()\n",
        "openJson.close()\n",
        "unet4 = tf.keras.models.model_from_json(unet4_raw)\n",
        "unet4.load_weights(os.path.join(DATA_PATH, 'net4_weights.h5'))"
      ],
      "execution_count": 0,
      "outputs": [
        {
          "output_type": "stream",
          "text": [
            "WARNING:tensorflow:From /usr/local/lib/python3.6/dist-packages/tensorflow_core/python/ops/init_ops.py:97: calling VarianceScaling.__init__ (from tensorflow.python.ops.init_ops) with dtype is deprecated and will be removed in a future version.\n",
            "Instructions for updating:\n",
            "Call initializer instance with the dtype argument instead of passing it to the constructor\n",
            "WARNING:tensorflow:From /usr/local/lib/python3.6/dist-packages/tensorflow_core/python/ops/init_ops.py:97: calling Zeros.__init__ (from tensorflow.python.ops.init_ops) with dtype is deprecated and will be removed in a future version.\n",
            "Instructions for updating:\n",
            "Call initializer instance with the dtype argument instead of passing it to the constructor\n",
            "WARNING:tensorflow:From /usr/local/lib/python3.6/dist-packages/tensorflow_core/python/ops/resource_variable_ops.py:1630: calling BaseResourceVariable.__init__ (from tensorflow.python.ops.resource_variable_ops) with constraint is deprecated and will be removed in a future version.\n",
            "Instructions for updating:\n",
            "If using Keras pass *_constraint arguments to layers.\n"
          ],
          "name": "stdout"
        }
      ]
    },
    {
      "cell_type": "code",
      "metadata": {
        "id": "PFCR_9ot5Oge",
        "colab_type": "code",
        "colab": {}
      },
      "source": [
        "# ++++++++++++++++++++++++++++++++++++++++++++++++++++++++++++++++++++++++++++++++++++++++++++++++++\n",
        "# Prepare Test Data\n",
        "# ++++++++++++++++++++++++++++++++++++++++++++++++++++++++++++++++++++++++++++++++++++++++++++++++++\n",
        "\n",
        "testNames = glob(os.path.join(DATA_PATH, '*_Image.png'))  # paths to images (labels via Generator)\n",
        "M = 2000 \n",
        "mixUp = np.arange(N, N+M)  # ensure no overlap with training\n",
        "testNames = np.array([testNames[n] for n in mixUp])\n",
        "testData = Generator(testNames, BATCH_SIZE, DATA_PATH)"
      ],
      "execution_count": 0,
      "outputs": []
    },
    {
      "cell_type": "code",
      "metadata": {
        "id": "Xf9dfYdTcUFU",
        "colab_type": "code",
        "outputId": "10ed9710-de54-425e-f6e2-5c313ece8289",
        "colab": {
          "base_uri": "https://localhost:8080/",
          "height": 33
        }
      },
      "source": [
        "pred1 = unet1.predict_generator(testData, steps=len(testData), verbose=1, workers=6)"
      ],
      "execution_count": 0,
      "outputs": [
        {
          "output_type": "stream",
          "text": [
            "31/31 [==============================] - 1488s 48s/step\n"
          ],
          "name": "stdout"
        }
      ]
    },
    {
      "cell_type": "code",
      "metadata": {
        "id": "cleXB98KkIqp",
        "colab_type": "code",
        "colab": {}
      },
      "source": [
        "a = pred1[0]\n",
        "b = testData[0]\n",
        "\n",
        "fig, (p1, p2, p3, p4, p5, p6) = plt.subplots(1,6)\n",
        "for n, x in enumerate((p1, p2, p3, p4, p5, p6)):\n",
        "  x.set_title(str(n))\n",
        "  x.imshow(a[:, :, n])\n",
        "  x.xaxis.set_visible(False)\n",
        "  x.yaxis.set_visible(False)"
      ],
      "execution_count": 0,
      "outputs": []
    },
    {
      "cell_type": "code",
      "metadata": {
        "id": "sXl_6m1epPJq",
        "colab_type": "code",
        "outputId": "ccc3b30e-1a02-48d4-986b-9de6e859df60",
        "colab": {
          "base_uri": "https://localhost:8080/",
          "height": 95
        }
      },
      "source": [
        "fig, (p1, p2, p3, p4, p5, p6) = plt.subplots(1,6)\n",
        "for n, x in enumerate((p1, p2, p3, p4, p5, p6)):\n",
        "  x.set_title(str(n))\n",
        "  x.imshow(a[:, :, n]>0.5)\n",
        "  x.xaxis.set_visible(False)\n",
        "  x.yaxis.set_visible(False)"
      ],
      "execution_count": 0,
      "outputs": [
        {
          "output_type": "display_data",
          "data": {
            "image/png": "[encoded data removed]",
            "text/plain": [
              "<Figure size 432x288 with 6 Axes>"
            ]
          },
          "metadata": {
            "tags": []
          }
        }
      ]
    },
    {
      "cell_type": "code",
      "metadata": {
        "id": "lD68NF3bot38",
        "colab_type": "code",
        "outputId": "803e0c13-e966-4a9a-9ec4-bd74296e1ef4",
        "colab": {
          "base_uri": "https://localhost:8080/",
          "height": 95
        }
      },
      "source": [
        "fig, (p1, p2, p3, p4, p5, p6) = plt.subplots(1,6)\n",
        "for n, x in enumerate((p1, p2, p3, p4, p5, p6)):\n",
        "  x.set_title(str(n))\n",
        "  x.imshow(b[1][0, :, :, n])\n",
        "  x.xaxis.set_visible(False)\n",
        "  x.yaxis.set_visible(False)"
      ],
      "execution_count": 0,
      "outputs": [
        {
          "output_type": "display_data",
          "data": {
            "image/png": "[encoded data removed]",
            "text/plain": [
              "<Figure size 432x288 with 6 Axes>"
            ]
          },
          "metadata": {
            "tags": []
          }
        }
      ]
    },
    {
      "cell_type": "code",
      "metadata": {
        "id": "3n6366H7cmBe",
        "colab_type": "code",
        "outputId": "36de1538-60d9-4c86-b333-24919baa0621",
        "colab": {
          "base_uri": "https://localhost:8080/",
          "height": 33
        }
      },
      "source": [
        "pred2 = unet2.predict_generator(testData, steps=len(testData), verbose=1, workers=6)"
      ],
      "execution_count": 0,
      "outputs": [
        {
          "output_type": "stream",
          "text": [
            "31/31 [==============================] - 1395s 45s/step\n"
          ],
          "name": "stdout"
        }
      ]
    },
    {
      "cell_type": "code",
      "metadata": {
        "id": "4g8Ir3ZQcmOI",
        "colab_type": "code",
        "outputId": "9299df7a-288d-417a-d3d6-9606faa0ee9d",
        "colab": {
          "base_uri": "https://localhost:8080/",
          "height": 33
        }
      },
      "source": [
        "pred3 = unet3.predict_generator(testData, steps=len(testData), verbose=1, workers=6)"
      ],
      "execution_count": 0,
      "outputs": [
        {
          "output_type": "stream",
          "text": [
            "31/31 [==============================] - 1474s 48s/step\n"
          ],
          "name": "stdout"
        }
      ]
    },
    {
      "cell_type": "code",
      "metadata": {
        "id": "ETTfqK5xcmY2",
        "colab_type": "code",
        "outputId": "dab52806-40d7-4d62-c4a3-79a1d8150b92",
        "colab": {
          "base_uri": "https://localhost:8080/",
          "height": 33
        }
      },
      "source": [
        "pred4 = unet4.predict_generator(testData, steps=len(testData), verbose=1, workers=6)"
      ],
      "execution_count": 0,
      "outputs": [
        {
          "output_type": "stream",
          "text": [
            "30/31 [============================>.] - ETA: 52s "
          ],
          "name": "stdout"
        }
      ]
    },
    {
      "cell_type": "code",
      "metadata": {
        "id": "osi_OZmTRLPu",
        "colab_type": "code",
        "colab": {}
      },
      "source": [
        "np.save(os.path.join(DATA_PATH, 'pred1', pred1)"
      ],
      "execution_count": 0,
      "outputs": []
    },
    {
      "cell_type": "code",
      "metadata": {
        "id": "wwgZ4UtB1YGf",
        "colab_type": "code",
        "colab": {}
      },
      "source": [
        "np.save(os.path.join(DATA_PATH, 'pred2', pred2)"
      ],
      "execution_count": 0,
      "outputs": []
    },
    {
      "cell_type": "code",
      "metadata": {
        "id": "Jn9vTrBD1YVU",
        "colab_type": "code",
        "colab": {}
      },
      "source": [
        "np.save(os.path.join(DATA_PATH, 'pred3', pred3)"
      ],
      "execution_count": 0,
      "outputs": []
    },
    {
      "cell_type": "code",
      "metadata": {
        "id": "RcPWztSG1YkS",
        "colab_type": "code",
        "colab": {}
      },
      "source": [
        "np.save(os.path.join(DATA_PATH, 'pred4', pred4)"
      ],
      "execution_count": 0,
      "outputs": []
    },
    {
      "cell_type": "code",
      "metadata": {
        "id": "krZ9ibuO1lLc",
        "colab_type": "code",
        "colab": {}
      },
      "source": [
        ""
      ],
      "execution_count": 0,
      "outputs": []
    }
  ]
}